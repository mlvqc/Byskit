{
 "cells": [
  {
   "cell_type": "markdown",
   "metadata": {},
   "source": [
    "https://medium.com/analytics-vidhya/quantum-machine-learning-inference-on-bayesian-networks-351f242816e8"
   ]
  },
  {
   "cell_type": "code",
   "execution_count": 1,
   "metadata": {},
   "outputs": [
    {
     "name": "stderr",
     "output_type": "stream",
     "text": [
      "/home/sebastian/anaconda/envs/Quiskit/lib/python3.8/site-packages/qiskit/providers/ibmq/ibmqfactory.py:192: UserWarning: Timestamps in IBMQ backend properties, jobs, and job results are all now in local time instead of UTC.\n",
      "  warnings.warn('Timestamps in IBMQ backend properties, jobs, and job results '\n"
     ]
    }
   ],
   "source": [
    "from qiskit.tools.jupyter import *\n",
    "from qiskit import IBMQ\n",
    "IBMQ.load_account()\n",
    "#provider = IBMQ.get_provider(hub='ibm-q', group='open', project='main')\n",
    "provider = IBMQ.get_provider(hub='ibm-q-oxford', group='on-boarding', project='on-boarding-proj') \n",
    "\n",
    "from qiskit import QuantumRegister, ClassicalRegister \n",
    "from qiskit import QuantumCircuit, Aer\n",
    "from qiskit import execute\n",
    "\n",
    "# Create one 4 qubit QuantumRegister to hold the Bayesian network and an ancilla qubit,\n",
    "# and a 3 bit ClassicalRegister to hold the sampled values\n",
    "net = QuantumRegister(4, 'qreg')\n",
    "cl = ClassicalRegister(3, 'creg')\n",
    "\n",
    "circ = QuantumCircuit(net, cl, name='circ')\n"
   ]
  },
  {
   "cell_type": "code",
   "execution_count": 6,
   "metadata": {},
   "outputs": [],
   "source": [
    "from numpy import arcsin, sqrt, pi\n",
    "\n",
    "def probToAngle(prob):\n",
    "    \"\"\"\n",
    "    Converts a given P(1) value into an equivalent theta value.\n",
    "    \"\"\"\n",
    "    return 2*arcsin(sqrt(prob))"
   ]
  },
  {
   "cell_type": "code",
   "execution_count": 3,
   "metadata": {},
   "outputs": [
    {
     "data": {
      "text/plain": [
       "<qiskit.circuit.instructionset.InstructionSet at 0x7f58447585b0>"
      ]
     },
     "execution_count": 3,
     "metadata": {},
     "output_type": "execute_result"
    }
   ],
   "source": [
    "# Setting up a qubit to represent the variable P\n",
    "circ.u3(probToAngle(0.35), 0, 0, net[0])\n",
    "\n",
    "# Since we have P = 1, we use the second row of the probability table for the variable E\n",
    "circ.u3(probToAngle(0.76), 0, 0, net[1])\n",
    "\n",
    "# Setting up the qubit representing H assuming that E = 0\n",
    "circ.u3(probToAngle(0.39), 0, 0, net[2])"
   ]
  },
  {
   "cell_type": "code",
   "execution_count": 4,
   "metadata": {},
   "outputs": [],
   "source": [
    "def oracle(circ):\n",
    "    \"\"\"\n",
    "    Implements an oracle that flips the sign of states that contain P = 1.\n",
    "    \"\"\"\n",
    "    circ.cu3(pi, pi, 0, net[0], net[1])\n",
    "    circ.cu3(pi, pi, 0, net[0], net[1])    \n",
    "    return circ\n",
    "\n",
    "\n",
    "def u_gate(circ):\n",
    "    \"\"\"\n",
    "    Implements the U gate that flips states about the average amplitude.\n",
    "    \"\"\"\n",
    "    # Implements the quantum circuit that converts ψ -> |000...0>\n",
    "    circ.u3(-1*probToAngle(0.35), 0, 0, net[0])\n",
    "    circ.u3(-1*probToAngle(0.76), 0, 0, net[1])\n",
    "    circ.u3(-1*probToAngle(0.39), 0, 0, net[2])\n",
    "\n",
    "    # Flipping the |000...0> state using a triple controlled Z gate condtioned on P, E and H, \n",
    "    # and applied to the ancilla\n",
    "    circ.x(net)\n",
    "    circ.cu1(pi/4, net[0], net[3])\n",
    "    circ.cx(net[0], net[1])\n",
    "    circ.cu1(-pi/4, net[1], net[3])\n",
    "    circ.cx(net[0], net[1])\n",
    "    circ.cu1(pi/4, net[1], net[3])\n",
    "    circ.cx(net[1], net[2])\n",
    "    circ.cu1(-pi/4, net[2], net[3])\n",
    "    circ.cx(net[0], net[2])\n",
    "    circ.cu1(pi/4, net[2], net[3])\n",
    "    circ.cx(net[1], net[2])\n",
    "    circ.cu1(-pi/4, net[2], net[3])\n",
    "    circ.cx(net[0], net[2])\n",
    "    circ.cu1(pi/4, net[2], net[3])\n",
    "    circ.x(net)\n",
    "\n",
    "    # Implements the quantum circuit that converts |000...0> -> ψ \n",
    "    circ.u3(probToAngle(0.35), 0, 0, net[0])\n",
    "    circ.u3(probToAngle(0.76), 0, 0, net[1])\n",
    "    circ.u3(probToAngle(0.39), 0, 0, net[2])\n",
    "\n",
    "    return circ"
   ]
  },
  {
   "cell_type": "code",
   "execution_count": 7,
   "metadata": {},
   "outputs": [
    {
     "data": {
      "text/plain": [
       "<qiskit.circuit.instructionset.InstructionSet at 0x7f57f0d91580>"
      ]
     },
     "execution_count": 7,
     "metadata": {},
     "output_type": "execute_result"
    }
   ],
   "source": [
    "# Apply oracle and U gate twice\n",
    "circ = oracle(circ)\n",
    "circ = u_gate(circ)\n",
    "circ = oracle(circ)\n",
    "circ = u_gate(circ)\n",
    "circ.x(net[0])\n",
    "\n",
    "# Measure E, and rotate H to the P(1) value in the second row of the P(H|E) table condtioned on E\n",
    "circ.measure(net[1], cl[1])\n",
    "circ.u3(probToAngle(0.82) - probToAngle(0.39), 0, 0, net[2])\n",
    "\n",
    "# Sample by measuring the rest of the qubits\n",
    "circ.measure(net[0], cl[0])\n",
    "circ.measure(net[2], cl[2])"
   ]
  },
  {
   "cell_type": "code",
   "execution_count": 10,
   "metadata": {},
   "outputs": [
    {
     "name": "stdout",
     "output_type": "stream",
     "text": [
      "\n",
      "1000 samples drawn: 656 samples accepted, 344 samples rejected.\n",
      "Percentage of samples rejected:  34.4 %\n",
      "P(H = 0| P = 1) = 0.1722560975609756\n",
      "\n"
     ]
    }
   ],
   "source": [
    "# Get backend from Aer provider\n",
    "backend = Aer.get_backend('qasm_simulator')\n",
    "\n",
    "# Run job many times to get multiple samples\n",
    "samples_list = []\n",
    "n_samples = 1000\n",
    "\n",
    "for i in range(n_samples):\n",
    "    job = execute(circ, backend=backend, shots=1)\n",
    "    result = list(job.result().get_counts(circ).keys())[0]\n",
    "    if result[2] == '1':\n",
    "        samples_list.append(result)\n",
    "\n",
    "# Printing the number of useful samples and percentage of samples rejected\n",
    "print()\n",
    "print(n_samples, 'samples drawn:', len(samples_list), 'samples accepted,', n_samples-len(samples_list), 'samples rejected.' )\n",
    "print('Percentage of samples rejected: ', 100*(1 - (len(samples_list)/n_samples)), '%')\n",
    "\n",
    "# Computing P(H = 0| P = 1)\n",
    "p_H = 0\n",
    "\n",
    "for i in samples_list:\n",
    "    if i[0] == '0':\n",
    "        p_H += 1\n",
    "\n",
    "p_H /= len(samples_list)\n",
    "\n",
    "print('P(H = 0| P = 1) =', p_H)\n",
    "print()"
   ]
  },
  {
   "cell_type": "markdown",
   "metadata": {},
   "source": []
  },
  {
   "cell_type": "code",
   "execution_count": null,
   "metadata": {},
   "outputs": [],
   "source": []
  }
 ],
 "metadata": {
  "kernelspec": {
   "display_name": "Python 3",
   "language": "python",
   "name": "python3"
  },
  "language_info": {
   "codemirror_mode": {
    "name": "ipython",
    "version": 3
   },
   "file_extension": ".py",
   "mimetype": "text/x-python",
   "name": "python",
   "nbconvert_exporter": "python",
   "pygments_lexer": "ipython3",
   "version": "3.8.5"
  }
 },
 "nbformat": 4,
 "nbformat_minor": 4
}
