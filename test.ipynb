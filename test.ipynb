{
 "cells": [
  {
   "cell_type": "code",
   "execution_count": 1,
   "metadata": {},
   "outputs": [
    {
     "name": "stderr",
     "output_type": "stream",
     "text": [
      "/home/sebastian/anaconda/envs/Quiskit/lib/python3.8/site-packages/qiskit/providers/ibmq/ibmqfactory.py:192: UserWarning: Timestamps in IBMQ backend properties, jobs, and job results are all now in local time instead of UTC.\n",
      "  warnings.warn('Timestamps in IBMQ backend properties, jobs, and job results '\n"
     ]
    }
   ],
   "source": [
    "from jupyterthemes import jtplot\n",
    "jtplot.style(theme='monokai', context='notebook', ticks=True, grid=False)\n",
    "\n",
    "from qiskit.tools.jupyter import *\n",
    "from qiskit import IBMQ\n",
    "IBMQ.load_account()\n",
    "#provider = IBMQ.get_provider(hub='ibm-q', group='open', project='main')\n",
    "provider = IBMQ.get_provider(hub='ibm-q-oxford', group='on-boarding', project='on-boarding-proj') \n",
    "\n",
    "from qiskit import QuantumCircuit, ClassicalRegister, QuantumRegister, execute\n",
    "from qiskit.tools.visualization import circuit_drawer\n",
    "from qiskit.quantum_info import state_fidelity\n",
    "from qiskit import BasicAer\n",
    "\n",
    "backend = BasicAer.get_backend('unitary_simulator')"
   ]
  },
  {
   "cell_type": "markdown",
   "metadata": {},
   "source": []
  },
  {
   "cell_type": "code",
   "execution_count": 2,
   "metadata": {},
   "outputs": [
    {
     "data": {
      "image/png": "[encoded data removed]",
      "text/plain": [
       "<Figure size 260.887x84.28 with 1 Axes>"
      ]
     },
     "execution_count": 2,
     "metadata": {},
     "output_type": "execute_result"
    }
   ],
   "source": [
    "# Useful additional packages \n",
    "import matplotlib.pyplot as plt\n",
    "%matplotlib inline\n",
    "import numpy as np\n",
    "from math import pi\n",
    "\n",
    "q = QuantumRegister(1)\n",
    "qc = QuantumCircuit(q)\n",
    "qc.u3(pi/2,pi/2,pi/2,q)\n",
    "qc.draw(output='mpl')"
   ]
  },
  {
   "cell_type": "code",
   "execution_count": 3,
   "metadata": {},
   "outputs": [
    {
     "data": {
      "text/plain": [
       "array([[ 7.07106781e-01+0.00000000e+00j, -4.32978028e-17-7.07106781e-01j],\n",
       "       [ 4.32978028e-17+7.07106781e-01j, -7.07106781e-01+8.65956056e-17j]])"
      ]
     },
     "execution_count": 3,
     "metadata": {},
     "output_type": "execute_result"
    }
   ],
   "source": [
    "job = execute(qc, backend)\n",
    "job.result().get_unitary(qc, decimals=3)"
   ]
  },
  {
   "cell_type": "code",
   "execution_count": 4,
   "metadata": {},
   "outputs": [
    {
     "name": "stdout",
     "output_type": "stream",
     "text": [
      "ibmq_qasm_simulator has 3 queued and simulated qubits\n",
      "ibmq_16_melbourne has 38 queued and 15 qubits\n",
      "ibmq_vigo has 28 queued and 5 qubits\n",
      "ibmq_ourense has 23 queued and 5 qubits\n",
      "ibmq_valencia has 17 queued and 5 qubits\n",
      "ibmq_rochester has 15 queued and 53 qubits\n",
      "ibmq_armonk has 12 queued and 1 qubits\n",
      "ibmq_cambridge has 6 queued and 28 qubits\n",
      "ibmq_paris has 30 queued and 27 qubits\n",
      "ibmq_rome has 23 queued and 5 qubits\n",
      "ibmq_toronto has 53 queued and 27 qubits\n",
      "ibmq_santiago has 27 queued and 5 qubits\n",
      "ibmq_bogota has 8 queued and 5 qubits\n",
      "ibmq_manhattan has 9 queued and 65 qubits\n"
     ]
    }
   ],
   "source": [
    "for backend in provider.backends():\n",
    "    try:\n",
    "        qubit_count = len(backend.properties().qubits)\n",
    "    except:\n",
    "        qubit_count = 'simulated'\n",
    "    print('{} has {} queued and {} qubits'.format(backend.name(),backend.status().pending_jobs,qubit_count) )"
   ]
  },
  {
   "cell_type": "markdown",
   "metadata": {},
   "source": [
    "## Bayes net (i)\n",
    "P(A = 0) = 0.2\n",
    "\n",
    "P(A = 1) = 0.8\n",
    "\n",
    "\n",
    "P(B = 0) = 0.3\n",
    "\n",
    "P(B = 1) = 0.7\n",
    "\n",
    "\n",
    "\n",
    "P(C = 0|A=0,B=0) = 0.15\n",
    "\n",
    "P(C = 0|A=0,B=1) = 0.3\n",
    "\n",
    "P(C = 0|A=1,B=0) = 0.4\n",
    "\n",
    "P(C = 0|A=1,B=1) = 0.1\n",
    "\n",
    "\n",
    "\n",
    "P(C = 1|A=0,B=0) = 0.85\n",
    "\n",
    "P(C = 1|A=0,B=1) = 0.7\n",
    "\n",
    "P(C = 1|A=1,B=0) = 0.6\n",
    "\n",
    "P(C = 1|A=1,B=1) = 0.9"
   ]
  },
  {
   "cell_type": "markdown",
   "metadata": {},
   "source": [
    "### Rotation angle computation\n",
    "By applying an RY-gate with an appropriate angle, the probabilities of the  root  node  can  be  mapped  to  the  probabilities  (and  thus  probability  amplitudes) of the basis states.\n",
    "Two-state root nodes can we represented by an RY gate with rotation angle $ = 2*tan^{-1}\\sqrt{\\frac{P(V_{i}=1)}{P(V_{i}=0)})}$.\n",
    "\n"
   ]
  },
  {
   "cell_type": "markdown",
   "metadata": {},
   "source": [
    "Therefore, for Bayes net (i), the rotation angles are $\\theta_{A} = 2*tan^{-1}(\\frac{0.8}{0.2}) = 2.214$ and $\\theta_{B} = 2*tan^{-1}(\\frac{0.7}{0.3}) = 1.982$."
   ]
  },
  {
   "cell_type": "markdown",
   "metadata": {},
   "source": [
    "For the child nodes,\n",
    "\\begin{equation}\n",
    "\\theta_{V_{i},\\Pi_{V_{I}}^{*}} = 2 * tan^{-1}\\left(\\sqrt{\\frac{P(V_{i}=1|\\Pi_{V_{i}}=\\Pi_{V_{i}}^{*})}{P(V_{i}=0|\\Pi_{V_{i}}=\\Pi_{V_{i}}^{*})}}\\right)\n",
    "\\end{equation}\n",
    "\n",
    " The  conditional  probabilities  associated  with  childnodes  are  realized  through  controlled  rotations. "
   ]
  },
  {
   "cell_type": "markdown",
   "metadata": {},
   "source": [
    "Thus,\n",
    "\n",
    "$\\theta(C|A=0,B=0) = 2.348$\n",
    "\n",
    "$\\theta(C|A=0,B=1) = 1.982$\n",
    "\n",
    "$\\theta(C|A=1,B=0) = 1.772$\n",
    "\n",
    "$\\theta(C|A=1,B=1) = 2.498$\n",
    "\n",
    "\n",
    "\n"
   ]
  },
  {
   "cell_type": "code",
   "execution_count": null,
   "metadata": {},
   "outputs": [],
   "source": []
  }
 ],
 "metadata": {
  "kernelspec": {
   "display_name": "Python 3",
   "language": "python",
   "name": "python3"
  },
  "language_info": {
   "codemirror_mode": {
    "name": "ipython",
    "version": 3
   },
   "file_extension": ".py",
   "mimetype": "text/x-python",
   "name": "python",
   "nbconvert_exporter": "python",
   "pygments_lexer": "ipython3",
   "version": "3.8.5"
  }
 },
 "nbformat": 4,
 "nbformat_minor": 4
}
